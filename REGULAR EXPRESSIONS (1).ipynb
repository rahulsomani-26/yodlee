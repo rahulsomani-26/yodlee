{
 "cells": [
  {
   "cell_type": "markdown",
   "id": "3e205ca6",
   "metadata": {},
   "source": [
    "# Regular Expressions "
   ]
  },
  {
   "cell_type": "markdown",
   "id": "7c4d3aa7",
   "metadata": {},
   "source": [
    "Often known as re, or regex\n",
    "\n",
    "Regular Expression is a very efficient technique to search, replace\n",
    "\n",
    "The re module is implemented in 'c' language and that is why it is quite fast as well as efficient"
   ]
  },
  {
   "cell_type": "code",
   "execution_count": 1,
   "id": "cd78c009",
   "metadata": {},
   "outputs": [],
   "source": [
    "msg = \"\"\"This is a world of programmers, AI, ML. For any learning please contact \n",
    "         Mr Aaksh, the CEO of F5 at 7394387390. You can also drop a 7484748 mail at akash@f5.com\"\"\"\n"
   ]
  },
  {
   "cell_type": "code",
   "execution_count": 2,
   "id": "03fc9f39",
   "metadata": {},
   "outputs": [
    {
     "data": {
      "text/plain": [
       "('This is a world of programmers, AI, ML. For any learning please contact \\n         Mr Aaksh, the CEO of F5 at 7394387390. You can also drop a 7484748 mail at akash@f5.com',\n",
       " str)"
      ]
     },
     "execution_count": 2,
     "metadata": {},
     "output_type": "execute_result"
    }
   ],
   "source": [
    "msg, type(msg)"
   ]
  },
  {
   "cell_type": "markdown",
   "id": "fa4a4830",
   "metadata": {},
   "source": [
    "Steps involved\n",
    "\n",
    "1. import the module re\n",
    "\n",
    "2. create a pattern which you want to search for\n",
    "\n",
    "3. Then use the re functions to do the needfull"
   ]
  },
  {
   "cell_type": "code",
   "execution_count": 4,
   "id": "ae4a00ca",
   "metadata": {},
   "outputs": [],
   "source": [
    "import re \n",
    "pattern = r'\\d' # \\d --> a single digit \n",
    "text = 'My age is 35'\n",
    "result = re.search(pattern,text)"
   ]
  },
  {
   "cell_type": "code",
   "execution_count": 5,
   "id": "dc179b95",
   "metadata": {},
   "outputs": [
    {
     "data": {
      "text/plain": [
       "<re.Match object; span=(10, 11), match='3'>"
      ]
     },
     "execution_count": 5,
     "metadata": {},
     "output_type": "execute_result"
    }
   ],
   "source": [
    "result"
   ]
  },
  {
   "cell_type": "code",
   "execution_count": 6,
   "id": "eae75ea2",
   "metadata": {},
   "outputs": [
    {
     "data": {
      "text/plain": [
       "'3'"
      ]
     },
     "execution_count": 6,
     "metadata": {},
     "output_type": "execute_result"
    }
   ],
   "source": [
    "result.group()"
   ]
  },
  {
   "cell_type": "code",
   "execution_count": 7,
   "id": "609932a7",
   "metadata": {},
   "outputs": [
    {
     "data": {
      "text/plain": [
       "(10, 11)"
      ]
     },
     "execution_count": 7,
     "metadata": {},
     "output_type": "execute_result"
    }
   ],
   "source": [
    "result.span()"
   ]
  },
  {
   "cell_type": "code",
   "execution_count": 9,
   "id": "e74d40a9",
   "metadata": {},
   "outputs": [
    {
     "data": {
      "text/plain": [
       "'35'"
      ]
     },
     "execution_count": 9,
     "metadata": {},
     "output_type": "execute_result"
    }
   ],
   "source": [
    "import re \n",
    "pattern = r'\\d\\d' # \\d --> a single digit \n",
    "text = 'My age is 35'\n",
    "result = re.search(pattern,text)\n",
    "result.group()"
   ]
  },
  {
   "cell_type": "markdown",
   "id": "a9643ac9",
   "metadata": {},
   "source": [
    "`create a string . Give any random phone numbers and some text. Find the phone number\n",
    "using re module`\n",
    "\n"
   ]
  },
  {
   "cell_type": "code",
   "execution_count": 10,
   "id": "62235e73",
   "metadata": {},
   "outputs": [
    {
     "name": "stdout",
     "output_type": "stream",
     "text": [
      "['A', 'ASCII', 'DEBUG', 'DOTALL', 'I', 'IGNORECASE', 'L', 'LOCALE', 'M', 'MULTILINE', 'Match', 'Pattern', 'RegexFlag', 'S', 'Scanner', 'T', 'TEMPLATE', 'U', 'UNICODE', 'VERBOSE', 'X', '_MAXCACHE', '__all__', '__builtins__', '__cached__', '__doc__', '__file__', '__loader__', '__name__', '__package__', '__spec__', '__version__', '_cache', '_compile', '_compile_repl', '_expand', '_locale', '_pickle', '_special_chars_map', '_subx', 'compile', 'copyreg', 'enum', 'error', 'escape', 'findall', 'finditer', 'fullmatch', 'functools', 'match', 'purge', 'search', 'split', 'sre_compile', 'sre_parse', 'sub', 'subn', 'template']\n"
     ]
    }
   ],
   "source": [
    "print(dir(re))"
   ]
  },
  {
   "cell_type": "code",
   "execution_count": 11,
   "id": "3a2af49c",
   "metadata": {},
   "outputs": [
    {
     "name": "stdout",
     "output_type": "stream",
     "text": [
      "['9283738', '5262738']\n"
     ]
    }
   ],
   "source": [
    "msg = \"\"\"\n",
    "      Hello I am XYZ and \n",
    "      my two mail id are \n",
    "      xyz@gmail.com and xyzyp@hotmail.com\n",
    "      and my numbers are 9283738 and 5262738\n",
    "      \"\"\"\n",
    "\n",
    "# pattern = r'\\w+@\\w+.\\w+'\n",
    "pattern = r'\\d+'\n",
    "result = re.findall(pattern,msg)\n",
    "print(result)"
   ]
  },
  {
   "cell_type": "markdown",
   "id": "12203023",
   "metadata": {},
   "source": [
    "\\w means a character "
   ]
  },
  {
   "cell_type": "code",
   "execution_count": 12,
   "id": "065711cb",
   "metadata": {},
   "outputs": [
    {
     "data": {
      "text/plain": [
       "'M'"
      ]
     },
     "execution_count": 12,
     "metadata": {},
     "output_type": "execute_result"
    }
   ],
   "source": [
    "import re \n",
    "pattern = r'\\w' # \\d --> a single digit \n",
    "text = 'My age is 35'\n",
    "result = re.search(pattern,text)\n",
    "result.group()"
   ]
  },
  {
   "cell_type": "code",
   "execution_count": 13,
   "id": "b4eac873",
   "metadata": {},
   "outputs": [
    {
     "data": {
      "text/plain": [
       "'My'"
      ]
     },
     "execution_count": 13,
     "metadata": {},
     "output_type": "execute_result"
    }
   ],
   "source": [
    "import re \n",
    "pattern = r'\\w\\w' # \\d --> a single digit \n",
    "text = 'My age is 35'\n",
    "result = re.search(pattern,text)\n",
    "result.group()"
   ]
  },
  {
   "cell_type": "code",
   "execution_count": 14,
   "id": "95c776a4",
   "metadata": {},
   "outputs": [
    {
     "data": {
      "text/plain": [
       "'My'"
      ]
     },
     "execution_count": 14,
     "metadata": {},
     "output_type": "execute_result"
    }
   ],
   "source": [
    "import re \n",
    "pattern = r'\\w+' # \\d --> a single digit \n",
    "text = 'My age is 35'\n",
    "result = re.search(pattern,text)\n",
    "result.group()"
   ]
  },
  {
   "cell_type": "code",
   "execution_count": 16,
   "id": "69193da4",
   "metadata": {},
   "outputs": [
    {
     "data": {
      "text/plain": [
       "'M2'"
      ]
     },
     "execution_count": 16,
     "metadata": {},
     "output_type": "execute_result"
    }
   ],
   "source": [
    "import re \n",
    "pattern = r'\\w.' # \\d --> a single digit \n",
    "text = 'M2 age is 35'\n",
    "result = re.search(pattern,text)\n",
    "result.group()"
   ]
  },
  {
   "cell_type": "code",
   "execution_count": 18,
   "id": "420de446",
   "metadata": {},
   "outputs": [],
   "source": [
    "# creating our own character classes \n",
    "\n",
    "import re \n",
    "pattern = r'\\d+' # \\d --> a single digit \n",
    "text = 'M2 age is 35 and his age is 42 , papa age is 70 and sis age is 40 '\n",
    "result = re.findall(pattern,text)"
   ]
  },
  {
   "cell_type": "code",
   "execution_count": 19,
   "id": "c7599098",
   "metadata": {},
   "outputs": [
    {
     "data": {
      "text/plain": [
       "['2', '35', '42', '70', '40']"
      ]
     },
     "execution_count": 19,
     "metadata": {},
     "output_type": "execute_result"
    }
   ],
   "source": [
    "result"
   ]
  },
  {
   "cell_type": "code",
   "execution_count": 20,
   "id": "dd3ed53e",
   "metadata": {},
   "outputs": [
    {
     "name": "stdout",
     "output_type": "stream",
     "text": [
      " \n"
     ]
    }
   ],
   "source": [
    "text= 'Hi I am rahul somani'\n",
    "pattern = r'\\s+'   # \\s will match for a whitespace \n",
    "result = re.search(pattern,text)\n",
    "# print(result.group())"
   ]
  },
  {
   "cell_type": "code",
   "execution_count": 21,
   "id": "ed91e23d",
   "metadata": {},
   "outputs": [
    {
     "data": {
      "text/plain": [
       "<re.Match object; span=(2, 3), match=' '>"
      ]
     },
     "execution_count": 21,
     "metadata": {},
     "output_type": "execute_result"
    }
   ],
   "source": [
    "result"
   ]
  },
  {
   "cell_type": "code",
   "execution_count": 22,
   "id": "9df33ee0",
   "metadata": {},
   "outputs": [],
   "source": [
    "text= 'Hi I am rahul somani'\n",
    "pattern = r'\\s+'   # \\s will match for a whitespace \n",
    "result = re.findall(pattern,text)"
   ]
  },
  {
   "cell_type": "code",
   "execution_count": 23,
   "id": "9319beaf",
   "metadata": {},
   "outputs": [
    {
     "data": {
      "text/plain": [
       "[' ', ' ', ' ', ' ']"
      ]
     },
     "execution_count": 23,
     "metadata": {},
     "output_type": "execute_result"
    }
   ],
   "source": [
    "result"
   ]
  },
  {
   "cell_type": "markdown",
   "id": "08e9034a",
   "metadata": {},
   "source": [
    "# Character class \n",
    "[a-zA-Z0-9_] , [aBC]"
   ]
  },
  {
   "cell_type": "code",
   "execution_count": 24,
   "id": "b1cf5e74",
   "metadata": {},
   "outputs": [
    {
     "name": "stdout",
     "output_type": "stream",
     "text": [
      "<re.Match object; span=(0, 1), match='1'>\n"
     ]
    }
   ],
   "source": [
    "msg = '123 This is my number 83473939'\n",
    "pattern = r'[0-9]'\n",
    "result = re.search(pattern,msg)\n",
    "print(result)\n"
   ]
  },
  {
   "cell_type": "code",
   "execution_count": 25,
   "id": "0513c2c9",
   "metadata": {},
   "outputs": [
    {
     "name": "stdout",
     "output_type": "stream",
     "text": [
      "<re.Match object; span=(0, 2), match='12'>\n"
     ]
    }
   ],
   "source": [
    "msg = '123 This is my number 83473939'\n",
    "pattern = r'[0-9].'\n",
    "result = re.search(pattern,msg)\n",
    "print(result)\n"
   ]
  },
  {
   "cell_type": "code",
   "execution_count": 26,
   "id": "92e6af17",
   "metadata": {},
   "outputs": [
    {
     "name": "stdout",
     "output_type": "stream",
     "text": [
      "<re.Match object; span=(0, 3), match='123'>\n"
     ]
    }
   ],
   "source": [
    "msg = '123 This is my number 83473939'\n",
    "pattern = r'[0-9]+'\n",
    "result = re.search(pattern,msg)\n",
    "print(result)\n"
   ]
  },
  {
   "cell_type": "code",
   "execution_count": 27,
   "id": "b5d4db83",
   "metadata": {},
   "outputs": [
    {
     "name": "stdout",
     "output_type": "stream",
     "text": [
      "<re.Match object; span=(3, 4), match=' '>\n"
     ]
    }
   ],
   "source": [
    "# Invert the character class using the ^ symbol\n",
    "msg = '123 This is my number 83473939'\n",
    "pattern = r'[^0-9]'\n",
    "result = re.search(pattern,msg)\n",
    "print(result)\n"
   ]
  },
  {
   "cell_type": "code",
   "execution_count": 32,
   "id": "93d457c1",
   "metadata": {},
   "outputs": [],
   "source": [
    "msg = '123 This is my number 83473939'\n",
    "pattern = r'[0-9]+'\n",
    "result = re.finditer(pattern,msg)\n"
   ]
  },
  {
   "cell_type": "code",
   "execution_count": 33,
   "id": "7c9c2e02",
   "metadata": {},
   "outputs": [
    {
     "data": {
      "text/plain": [
       "<callable_iterator at 0x20d77aa4fa0>"
      ]
     },
     "execution_count": 33,
     "metadata": {},
     "output_type": "execute_result"
    }
   ],
   "source": [
    "result"
   ]
  },
  {
   "cell_type": "code",
   "execution_count": 31,
   "id": "c9edab03",
   "metadata": {},
   "outputs": [],
   "source": [
    "for i in result:\n",
    "    print(i)"
   ]
  },
  {
   "cell_type": "code",
   "execution_count": 34,
   "id": "2e24d39f",
   "metadata": {},
   "outputs": [
    {
     "data": {
      "text/plain": [
       "<re.Match object; span=(0, 3), match='123'>"
      ]
     },
     "execution_count": 34,
     "metadata": {},
     "output_type": "execute_result"
    }
   ],
   "source": [
    "next(result)"
   ]
  },
  {
   "cell_type": "code",
   "execution_count": 35,
   "id": "49d229c3",
   "metadata": {},
   "outputs": [
    {
     "data": {
      "text/plain": [
       "<re.Match object; span=(22, 30), match='83473939'>"
      ]
     },
     "execution_count": 35,
     "metadata": {},
     "output_type": "execute_result"
    }
   ],
   "source": [
    "next(result)"
   ]
  },
  {
   "cell_type": "markdown",
   "id": "4f811d72",
   "metadata": {},
   "source": [
    "# ^: - The carret symbol \n",
    "\n",
    "` It matches the begining of a string `"
   ]
  },
  {
   "cell_type": "code",
   "execution_count": 36,
   "id": "b836ecf9",
   "metadata": {},
   "outputs": [
    {
     "name": "stdout",
     "output_type": "stream",
     "text": [
      "<re.Match object; span=(0, 4), match='This'>\n",
      "IT starts with This\n"
     ]
    }
   ],
   "source": [
    "msg = 'This is my number- 8363738'\n",
    "pattern = r'^This'\n",
    "result = re.search(pattern,msg)\n",
    "print(result)\n",
    "if result:\n",
    "    print(\"IT starts with This\")\n",
    "else:\n",
    "    print(\"Doesnot start with the word This\")"
   ]
  },
  {
   "cell_type": "code",
   "execution_count": 37,
   "id": "a1b7e5b5",
   "metadata": {},
   "outputs": [
    {
     "name": "stdout",
     "output_type": "stream",
     "text": [
      "<re.Match object; span=(0, 1), match='T'>\n",
      "IT starts with\n"
     ]
    }
   ],
   "source": [
    "msg = 'This is my number- 8363738'\n",
    "pattern = r'^T'\n",
    "result = re.search(pattern,msg)\n",
    "print(result)\n",
    "if result:\n",
    "    print(\"IT starts with\")\n",
    "else:\n",
    "    print(\"Doesnot start with \")"
   ]
  },
  {
   "cell_type": "code",
   "execution_count": 38,
   "id": "a9c36562",
   "metadata": {},
   "outputs": [
    {
     "name": "stdout",
     "output_type": "stream",
     "text": [
      "None\n",
      "Doesnot start with \n"
     ]
    }
   ],
   "source": [
    "msg = 'This is my number- 8363738'\n",
    "pattern = r'^M'\n",
    "result = re.search(pattern,msg)\n",
    "print(result)\n",
    "if result:\n",
    "    print(\"IT starts with\")\n",
    "else:\n",
    "    print(\"Doesnot start with \")"
   ]
  },
  {
   "cell_type": "code",
   "execution_count": 45,
   "id": "10704365",
   "metadata": {},
   "outputs": [],
   "source": [
    "\n",
    "def startswith(word,text):\n",
    "    pattern = r'^{}'.format(word)\n",
    "    result = re.search(pattern,text)\n",
    "    if result:\n",
    "        return True\n",
    "    else:\n",
    "        return False"
   ]
  },
  {
   "cell_type": "code",
   "execution_count": 46,
   "id": "057a7472",
   "metadata": {},
   "outputs": [
    {
     "data": {
      "text/plain": [
       "True"
      ]
     },
     "execution_count": 46,
     "metadata": {},
     "output_type": "execute_result"
    }
   ],
   "source": [
    "startswith('This','This is life')"
   ]
  },
  {
   "cell_type": "code",
   "execution_count": 47,
   "id": "0d710c83",
   "metadata": {},
   "outputs": [
    {
     "data": {
      "text/plain": [
       "False"
      ]
     },
     "execution_count": 47,
     "metadata": {},
     "output_type": "execute_result"
    }
   ],
   "source": [
    "startswith('Mhis','This is life')"
   ]
  },
  {
   "cell_type": "markdown",
   "id": "63203ba3",
   "metadata": {},
   "source": [
    "# Dollar $ will look for a match at the end of the string \n",
    "\n",
    "` Eg. r'end$' `"
   ]
  },
  {
   "cell_type": "code",
   "execution_count": 48,
   "id": "6be9a519",
   "metadata": {},
   "outputs": [
    {
     "name": "stdout",
     "output_type": "stream",
     "text": [
      "<re.Match object; span=(11, 17), match='number'>\n",
      "IT ends with\n"
     ]
    }
   ],
   "source": [
    "msg = 'This is my number'\n",
    "pattern = r'number$'\n",
    "result = re.search(pattern,msg)\n",
    "print(result)\n",
    "if result:\n",
    "    print(\"IT ends with\")\n",
    "else:\n",
    "    print(\"Doesnot ends with \")"
   ]
  },
  {
   "cell_type": "markdown",
   "id": "73369d2b",
   "metadata": {},
   "source": [
    "# . will match for any single character ( excluding new line)\n",
    "#  + will match for one of more occurences of the pattern \n",
    "# * will match for zero or more occurences of the pattern \n"
   ]
  },
  {
   "cell_type": "code",
   "execution_count": 50,
   "id": "c67c5ec2",
   "metadata": {},
   "outputs": [
    {
     "name": "stdout",
     "output_type": "stream",
     "text": [
      "<re.Match object; span=(11, 14), match='num'>\n"
     ]
    }
   ],
   "source": [
    "msg = 'This is my nummber'\n",
    "pattern = r'nu*m'\n",
    "result = re.search(pattern,msg)\n",
    "print(result)"
   ]
  },
  {
   "cell_type": "code",
   "execution_count": 52,
   "id": "7c2b92fd",
   "metadata": {},
   "outputs": [
    {
     "name": "stdout",
     "output_type": "stream",
     "text": [
      "<re.Match object; span=(11, 15), match='nu&m'> nu&m\n"
     ]
    }
   ],
   "source": [
    "msg = 'This is my nu&mber'\n",
    "pattern = r'nu.m'\n",
    "result = re.search(pattern,msg)\n",
    "print(result,result.group())"
   ]
  },
  {
   "cell_type": "code",
   "execution_count": 53,
   "id": "c862175b",
   "metadata": {},
   "outputs": [
    {
     "name": "stdout",
     "output_type": "stream",
     "text": [
      "['This', 'is', 'my', 'nummber']\n"
     ]
    }
   ],
   "source": [
    "msg = 'This is my nummber'\n",
    "pattern = r'\\S+'\n",
    "result = re.findall(pattern,msg)\n",
    "print(result)"
   ]
  },
  {
   "cell_type": "code",
   "execution_count": 54,
   "id": "61a2874c",
   "metadata": {},
   "outputs": [],
   "source": [
    "compiled_pattern = re.compile(r'\\w{3,5}')\n",
    "text = \"\"\"\n",
    "      Hey! my name is Ali\n",
    "      My email id is xyz@abc.com \n",
    "      reach me at 7778967\n",
    "      alternatively drop a mail at somani@classes.com\n",
    "      \"\"\"\n",
    "result = re.findall(compiled_pattern,text)\n"
   ]
  },
  {
   "cell_type": "code",
   "execution_count": 56,
   "id": "2bd92b6a",
   "metadata": {},
   "outputs": [
    {
     "name": "stdout",
     "output_type": "stream",
     "text": [
      "['Hey', 'name', 'Ali', 'email', 'xyz', 'abc', 'com', 'reach', '77789', 'alter', 'nativ', 'ely', 'drop', 'mail', 'soman', 'class', 'com']\t"
     ]
    }
   ],
   "source": [
    "print(result,end='\\t')"
   ]
  },
  {
   "cell_type": "code",
   "execution_count": 57,
   "id": "c3bf908b",
   "metadata": {},
   "outputs": [
    {
     "data": {
      "text/plain": [
       "<function re.sub(pattern, repl, string, count=0, flags=0)>"
      ]
     },
     "execution_count": 57,
     "metadata": {},
     "output_type": "execute_result"
    }
   ],
   "source": [
    "re.sub"
   ]
  },
  {
   "cell_type": "code",
   "execution_count": 58,
   "id": "7fa64f5d",
   "metadata": {},
   "outputs": [
    {
     "name": "stdout",
     "output_type": "stream",
     "text": [
      "Mysore is City\n"
     ]
    }
   ],
   "source": [
    "st = \"Bangalore is City\"\n",
    "x = re.sub('Bangalore','Mysore',st)\n",
    "print(x)\n"
   ]
  },
  {
   "cell_type": "markdown",
   "id": "db713b4b",
   "metadata": {},
   "source": [
    "write a function with the following signature \n",
    "\n",
    "``\n",
    "replace_me(word_to_replace,word,text):\n",
    "    pass \n",
    "``"
   ]
  },
  {
   "cell_type": "code",
   "execution_count": null,
   "id": "e6ad0d36",
   "metadata": {},
   "outputs": [],
   "source": [
    "Write a program which accepts a sequence of comma-separated numbers from console \n",
    "    and generate a list and a tuple which contains every number.\n",
    "    Suppose the following input is supplied to the program:\n",
    "        10,23,12,56,19\n",
    "    Then the output should be :\n",
    "        ['10','23','12','56','19']\n",
    "        ('10','23','12','56','19')"
   ]
  }
 ],
 "metadata": {
  "kernelspec": {
   "display_name": "Python 3 (ipykernel)",
   "language": "python",
   "name": "python3"
  },
  "language_info": {
   "codemirror_mode": {
    "name": "ipython",
    "version": 3
   },
   "file_extension": ".py",
   "mimetype": "text/x-python",
   "name": "python",
   "nbconvert_exporter": "python",
   "pygments_lexer": "ipython3",
   "version": "3.10.4"
  }
 },
 "nbformat": 4,
 "nbformat_minor": 5
}
