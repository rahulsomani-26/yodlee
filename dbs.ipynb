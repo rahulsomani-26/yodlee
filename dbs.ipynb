{
 "cells": [
  {
   "cell_type": "code",
   "execution_count": 4,
   "id": "e99ec810",
   "metadata": {},
   "outputs": [],
   "source": [
    "# Database\n",
    "import sqlite3 as sq"
   ]
  },
  {
   "cell_type": "code",
   "execution_count": 5,
   "id": "7d862905",
   "metadata": {},
   "outputs": [
    {
     "name": "stdout",
     "output_type": "stream",
     "text": [
      "['Binary', 'Connection', 'Cursor', 'DataError', 'DatabaseError', 'Date', 'DateFromTicks', 'Error', 'IntegrityError', 'InterfaceError', 'InternalError', 'NotSupportedError', 'OperationalError', 'PARSE_COLNAMES', 'PARSE_DECLTYPES', 'PrepareProtocol', 'ProgrammingError', 'Row', 'SQLITE_ALTER_TABLE', 'SQLITE_ANALYZE', 'SQLITE_ATTACH', 'SQLITE_CREATE_INDEX', 'SQLITE_CREATE_TABLE', 'SQLITE_CREATE_TEMP_INDEX', 'SQLITE_CREATE_TEMP_TABLE', 'SQLITE_CREATE_TEMP_TRIGGER', 'SQLITE_CREATE_TEMP_VIEW', 'SQLITE_CREATE_TRIGGER', 'SQLITE_CREATE_VIEW', 'SQLITE_CREATE_VTABLE', 'SQLITE_DELETE', 'SQLITE_DENY', 'SQLITE_DETACH', 'SQLITE_DONE', 'SQLITE_DROP_INDEX', 'SQLITE_DROP_TABLE', 'SQLITE_DROP_TEMP_INDEX', 'SQLITE_DROP_TEMP_TABLE', 'SQLITE_DROP_TEMP_TRIGGER', 'SQLITE_DROP_TEMP_VIEW', 'SQLITE_DROP_TRIGGER', 'SQLITE_DROP_VIEW', 'SQLITE_DROP_VTABLE', 'SQLITE_FUNCTION', 'SQLITE_IGNORE', 'SQLITE_INSERT', 'SQLITE_OK', 'SQLITE_PRAGMA', 'SQLITE_READ', 'SQLITE_RECURSIVE', 'SQLITE_REINDEX', 'SQLITE_SAVEPOINT', 'SQLITE_SELECT', 'SQLITE_TRANSACTION', 'SQLITE_UPDATE', 'Time', 'TimeFromTicks', 'Timestamp', 'TimestampFromTicks', 'Warning', '__builtins__', '__cached__', '__doc__', '__file__', '__getattr__', '__loader__', '__name__', '__package__', '__path__', '__spec__', 'adapt', 'adapters', 'apilevel', 'collections', 'complete_statement', 'connect', 'converters', 'datetime', 'dbapi2', 'enable_callback_tracebacks', 'enable_shared_cache', 'paramstyle', 'register_adapter', 'register_converter', 'sqlite_version', 'sqlite_version_info', 'threadsafety', 'time', 'version', 'version_info']\n"
     ]
    }
   ],
   "source": [
    "print(dir(sq))"
   ]
  },
  {
   "cell_type": "markdown",
   "id": "4a3e475d",
   "metadata": {},
   "source": [
    "# Basic operations \n",
    "***\n",
    "` - Make a connection to the db `\n",
    "\n",
    "` - Create a table ` \n",
    "\n"
   ]
  },
  {
   "cell_type": "code",
   "execution_count": 6,
   "id": "68e925c3",
   "metadata": {},
   "outputs": [
    {
     "data": {
      "text/plain": [
       "'2.6.0'"
      ]
     },
     "execution_count": 6,
     "metadata": {},
     "output_type": "execute_result"
    }
   ],
   "source": [
    "#To see the version \n",
    "sq.version"
   ]
  },
  {
   "cell_type": "code",
   "execution_count": 7,
   "id": "239f17f4",
   "metadata": {},
   "outputs": [
    {
     "data": {
      "text/plain": [
       "(2, 6, 0)"
      ]
     },
     "execution_count": 7,
     "metadata": {},
     "output_type": "execute_result"
    }
   ],
   "source": [
    "sq.version_info"
   ]
  },
  {
   "cell_type": "code",
   "execution_count": 8,
   "id": "c609e626",
   "metadata": {},
   "outputs": [
    {
     "data": {
      "text/plain": [
       "<function _sqlite3.connect>"
      ]
     },
     "execution_count": 8,
     "metadata": {},
     "output_type": "execute_result"
    }
   ],
   "source": [
    "sq.connect"
   ]
  },
  {
   "cell_type": "code",
   "execution_count": 9,
   "id": "a4d145dd",
   "metadata": {},
   "outputs": [
    {
     "name": "stdout",
     "output_type": "stream",
     "text": [
      "Help on built-in function connect in module _sqlite3:\n",
      "\n",
      "connect(...)\n",
      "    connect(database[, timeout, detect_types, isolation_level,\n",
      "            check_same_thread, factory, cached_statements, uri])\n",
      "    \n",
      "    Opens a connection to the SQLite database file *database*. You can use\n",
      "    \":memory:\" to open a database connection to a database that resides in\n",
      "    RAM instead of on disk.\n",
      "\n"
     ]
    }
   ],
   "source": [
    "help(sq.connect)"
   ]
  },
  {
   "cell_type": "code",
   "execution_count": 10,
   "id": "ca1bc793",
   "metadata": {},
   "outputs": [],
   "source": [
    "con = sq.connect('mydb.sqlite')"
   ]
  },
  {
   "cell_type": "code",
   "execution_count": 11,
   "id": "5809eb1e",
   "metadata": {},
   "outputs": [
    {
     "data": {
      "text/plain": [
       "(<sqlite3.Connection at 0x1fb055b7d40>, sqlite3.Connection)"
      ]
     },
     "execution_count": 11,
     "metadata": {},
     "output_type": "execute_result"
    }
   ],
   "source": [
    "con, type(con)"
   ]
  },
  {
   "cell_type": "code",
   "execution_count": 12,
   "id": "d2ec80c6",
   "metadata": {},
   "outputs": [
    {
     "name": "stdout",
     "output_type": "stream",
     "text": [
      "['DataError', 'DatabaseError', 'Error', 'IntegrityError', 'InterfaceError', 'InternalError', 'NotSupportedError', 'OperationalError', 'ProgrammingError', 'Warning', '__call__', '__class__', '__delattr__', '__dir__', '__doc__', '__enter__', '__eq__', '__exit__', '__format__', '__ge__', '__getattribute__', '__gt__', '__hash__', '__init__', '__init_subclass__', '__le__', '__lt__', '__module__', '__ne__', '__new__', '__reduce__', '__reduce_ex__', '__repr__', '__setattr__', '__sizeof__', '__str__', '__subclasshook__', 'backup', 'close', 'commit', 'create_aggregate', 'create_collation', 'create_function', 'cursor', 'enable_load_extension', 'execute', 'executemany', 'executescript', 'in_transaction', 'interrupt', 'isolation_level', 'iterdump', 'load_extension', 'rollback', 'row_factory', 'set_authorizer', 'set_progress_handler', 'set_trace_callback', 'text_factory', 'total_changes']\n"
     ]
    }
   ],
   "source": [
    "print(dir(con))"
   ]
  },
  {
   "cell_type": "code",
   "execution_count": 13,
   "id": "7271765a",
   "metadata": {},
   "outputs": [],
   "source": [
    "cur = con.cursor()"
   ]
  },
  {
   "cell_type": "code",
   "execution_count": 14,
   "id": "0a9486d8",
   "metadata": {},
   "outputs": [
    {
     "data": {
      "text/plain": [
       "<sqlite3.Cursor at 0x1fb0576f5c0>"
      ]
     },
     "execution_count": 14,
     "metadata": {},
     "output_type": "execute_result"
    }
   ],
   "source": [
    "cur"
   ]
  },
  {
   "cell_type": "code",
   "execution_count": 16,
   "id": "61072543",
   "metadata": {},
   "outputs": [
    {
     "ename": "OperationalError",
     "evalue": "table USER already exists",
     "output_type": "error",
     "traceback": [
      "\u001b[1;31m---------------------------------------------------------------------------\u001b[0m",
      "\u001b[1;31mOperationalError\u001b[0m                          Traceback (most recent call last)",
      "Input \u001b[1;32mIn [16]\u001b[0m, in \u001b[0;36m<cell line: 1>\u001b[1;34m()\u001b[0m\n\u001b[1;32m----> 1\u001b[0m \u001b[43mcur\u001b[49m\u001b[38;5;241;43m.\u001b[39;49m\u001b[43mexecute\u001b[49m\u001b[43m(\u001b[49m\u001b[38;5;124;43m'\u001b[39;49m\u001b[38;5;124;43mcreate table USER(id int,name text, age int)\u001b[39;49m\u001b[38;5;124;43m'\u001b[39;49m\u001b[43m)\u001b[49m\n",
      "\u001b[1;31mOperationalError\u001b[0m: table USER already exists"
     ]
    }
   ],
   "source": [
    "cur.execute('create table USER(id int,name text, age int)')"
   ]
  },
  {
   "cell_type": "markdown",
   "id": "d1ba3afe",
   "metadata": {},
   "source": [
    "cur.execute('create table if not exists USER(id int,name text, age int)')\n",
    "cur.execute('insert into USER values(?,?,?)',(101,'Rajiv',38))\n",
    "cur.execute('insert into USER values(?,?,?)',(102,'Ujjwal',36))\n",
    "cur.execute('insert into USER values(?,?,?)',(103,'Rahul',42))"
   ]
  },
  {
   "cell_type": "markdown",
   "id": "381fc4d7",
   "metadata": {},
   "source": [
    "# Retreiving values "
   ]
  },
  {
   "cell_type": "markdown",
   "id": "faafd031",
   "metadata": {},
   "source": [
    "select * from tablename \n",
    "select item1,item2 from tablename \n",
    "select item1 from tablenale where id = 23 "
   ]
  },
  {
   "cell_type": "code",
   "execution_count": 18,
   "id": "c4598e36",
   "metadata": {},
   "outputs": [
    {
     "name": "stdout",
     "output_type": "stream",
     "text": [
      "(101, 'Rajiv', 38)\n",
      "(102, 'Ujjwal', 36)\n",
      "(103, 'Rahul', 42)\n"
     ]
    }
   ],
   "source": [
    "result = cur.execute('select * from USER')\n",
    "for row in result:\n",
    "    print(row)"
   ]
  },
  {
   "cell_type": "code",
   "execution_count": 19,
   "id": "dd913f0f",
   "metadata": {},
   "outputs": [
    {
     "name": "stdout",
     "output_type": "stream",
     "text": [
      "Rajiv\n",
      "Ujjwal\n",
      "Rahul\n"
     ]
    }
   ],
   "source": [
    "result = cur.execute('select * from USER')\n",
    "for row in result:\n",
    "    print(row[1])"
   ]
  },
  {
   "cell_type": "code",
   "execution_count": null,
   "id": "0a54cd88",
   "metadata": {},
   "outputs": [],
   "source": [
    "write a function that does all the CRUD operations.\n",
    "\n",
    "CREATE \n",
    "READ\n",
    "UPDATE \n",
    "DELETE \n"
   ]
  }
 ],
 "metadata": {
  "kernelspec": {
   "display_name": "Python 3 (ipykernel)",
   "language": "python",
   "name": "python3"
  },
  "language_info": {
   "codemirror_mode": {
    "name": "ipython",
    "version": 3
   },
   "file_extension": ".py",
   "mimetype": "text/x-python",
   "name": "python",
   "nbconvert_exporter": "python",
   "pygments_lexer": "ipython3",
   "version": "3.10.4"
  }
 },
 "nbformat": 4,
 "nbformat_minor": 5
}
