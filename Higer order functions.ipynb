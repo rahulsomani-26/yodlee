{
 "cells": [
  {
   "cell_type": "markdown",
   "id": "dcfbb652",
   "metadata": {},
   "source": [
    "Higher order functions\n",
    "\n",
    "map(fun,*iterables)->iterator filter(fun,iterable)->iterator\n",
    "\n",
    "zip() is not a higer order function , but it is useful when used in conjunction with map() , list comprehensions\n",
    "\n",
    "zip(*iterables)"
   ]
  },
  {
   "cell_type": "code",
   "execution_count": 1,
   "id": "ddbf484c",
   "metadata": {},
   "outputs": [
    {
     "name": "stdout",
     "output_type": "stream",
     "text": [
      "<zip object at 0x0000029DC7212CC0>\n"
     ]
    }
   ],
   "source": [
    "l1=[1,2,3,4]\n",
    "l2=[10,20,30,40]\n",
    "l3='rahul'\n",
    "\n",
    "results = zip(l1,l2,l3)\n",
    "print(results)"
   ]
  },
  {
   "cell_type": "code",
   "execution_count": 2,
   "id": "0869317d",
   "metadata": {},
   "outputs": [
    {
     "data": {
      "text/plain": [
       "[(1, 10, 'r'), (2, 20, 'a'), (3, 30, 'h'), (4, 40, 'u')]"
      ]
     },
     "execution_count": 2,
     "metadata": {},
     "output_type": "execute_result"
    }
   ],
   "source": [
    "list(results)"
   ]
  },
  {
   "cell_type": "code",
   "execution_count": null,
   "id": "d6ec68a6",
   "metadata": {},
   "outputs": [],
   "source": [
    "list(filter(None,[0,10,0,1,2,True,False,'v']))"
   ]
  }
 ],
 "metadata": {
  "kernelspec": {
   "display_name": "Python 3 (ipykernel)",
   "language": "python",
   "name": "python3"
  },
  "language_info": {
   "codemirror_mode": {
    "name": "ipython",
    "version": 3
   },
   "file_extension": ".py",
   "mimetype": "text/x-python",
   "name": "python",
   "nbconvert_exporter": "python",
   "pygments_lexer": "ipython3",
   "version": "3.10.4"
  }
 },
 "nbformat": 4,
 "nbformat_minor": 5
}
