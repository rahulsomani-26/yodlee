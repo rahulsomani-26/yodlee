{
 "cells": [
  {
   "cell_type": "markdown",
   "id": "c86472f6",
   "metadata": {},
   "source": [
    "# Object Oriented Programming "
   ]
  },
  {
   "cell_type": "code",
   "execution_count": 5,
   "id": "b2610341",
   "metadata": {},
   "outputs": [],
   "source": [
    "class Student:\n",
    "    \"\"\"A doc string\"\"\"\n",
    "    pass"
   ]
  },
  {
   "cell_type": "code",
   "execution_count": 6,
   "id": "bcbd5cb5",
   "metadata": {},
   "outputs": [
    {
     "data": {
      "text/plain": [
       "(__main__.Student, type)"
      ]
     },
     "execution_count": 6,
     "metadata": {},
     "output_type": "execute_result"
    }
   ],
   "source": [
    "Student, type(Student)"
   ]
  },
  {
   "cell_type": "code",
   "execution_count": 7,
   "id": "3e3a57e7",
   "metadata": {},
   "outputs": [
    {
     "data": {
      "text/plain": [
       "mappingproxy({'__module__': '__main__',\n",
       "              '__doc__': 'A doc string',\n",
       "              '__dict__': <attribute '__dict__' of 'Student' objects>,\n",
       "              '__weakref__': <attribute '__weakref__' of 'Student' objects>})"
      ]
     },
     "execution_count": 7,
     "metadata": {},
     "output_type": "execute_result"
    }
   ],
   "source": [
    "Student.__dict__"
   ]
  },
  {
   "cell_type": "code",
   "execution_count": 8,
   "id": "0b9d5b9f",
   "metadata": {},
   "outputs": [],
   "source": [
    "class Test:\n",
    "    # constructor \n",
    "    def __new__(self):\n",
    "        print(\"Object created \")\n",
    "        \n",
    "    # destructor \n",
    "    def __del__(self): \n",
    "        print(\"object Destroyed\")"
   ]
  },
  {
   "cell_type": "code",
   "execution_count": 9,
   "id": "0fd10866",
   "metadata": {},
   "outputs": [
    {
     "data": {
      "text/plain": [
       "__main__.Test"
      ]
     },
     "execution_count": 9,
     "metadata": {},
     "output_type": "execute_result"
    }
   ],
   "source": [
    "Test"
   ]
  },
  {
   "cell_type": "code",
   "execution_count": 10,
   "id": "88f0ab59",
   "metadata": {},
   "outputs": [
    {
     "name": "stdout",
     "output_type": "stream",
     "text": [
      "Object created \n"
     ]
    }
   ],
   "source": [
    "t = Test()"
   ]
  },
  {
   "cell_type": "code",
   "execution_count": 11,
   "id": "c3fca6c3",
   "metadata": {},
   "outputs": [],
   "source": [
    "del t"
   ]
  },
  {
   "cell_type": "code",
   "execution_count": 12,
   "id": "37092fa3",
   "metadata": {},
   "outputs": [],
   "source": [
    "class Test:\n",
    "    # Initializer\n",
    "    def __init__(self):\n",
    "        print(\"Object Initialized \")\n",
    "    \n",
    "    def showmsg(self):\n",
    "        print(\"Hello world \")\n",
    "    "
   ]
  },
  {
   "cell_type": "code",
   "execution_count": 13,
   "id": "729f7cda",
   "metadata": {},
   "outputs": [
    {
     "name": "stdout",
     "output_type": "stream",
     "text": [
      "Object Initialized \n"
     ]
    }
   ],
   "source": [
    "t = Test()"
   ]
  },
  {
   "cell_type": "code",
   "execution_count": 14,
   "id": "5cf7a23f",
   "metadata": {},
   "outputs": [
    {
     "data": {
      "text/plain": [
       "<__main__.Test at 0x216f4dd7820>"
      ]
     },
     "execution_count": 14,
     "metadata": {},
     "output_type": "execute_result"
    }
   ],
   "source": [
    "t"
   ]
  },
  {
   "cell_type": "code",
   "execution_count": 15,
   "id": "91656cd8",
   "metadata": {},
   "outputs": [
    {
     "name": "stdout",
     "output_type": "stream",
     "text": [
      "Hello world \n"
     ]
    }
   ],
   "source": [
    "t.showmsg()"
   ]
  },
  {
   "cell_type": "code",
   "execution_count": 16,
   "id": "cea1416b",
   "metadata": {},
   "outputs": [],
   "source": [
    "class First:\n",
    "    def __init__(this):\n",
    "        print(\"Initialized\")\n",
    "        \n",
    "    def pushmsg(this):\n",
    "        print(\"Message pushed on stack\")"
   ]
  },
  {
   "cell_type": "code",
   "execution_count": 17,
   "id": "24715aa7",
   "metadata": {},
   "outputs": [
    {
     "name": "stdout",
     "output_type": "stream",
     "text": [
      "Initialized\n"
     ]
    }
   ],
   "source": [
    "f = First()"
   ]
  },
  {
   "cell_type": "code",
   "execution_count": 18,
   "id": "812ed4b5",
   "metadata": {},
   "outputs": [
    {
     "name": "stdout",
     "output_type": "stream",
     "text": [
      "Message pushed on stack\n"
     ]
    }
   ],
   "source": [
    "f.pushmsg()"
   ]
  },
  {
   "cell_type": "code",
   "execution_count": 19,
   "id": "1283c303",
   "metadata": {},
   "outputs": [],
   "source": [
    "class Test:\n",
    "    # Initializer\n",
    "    def __init__(self):\n",
    "        print(\"Object Initialized \")\n",
    "    \n",
    "    def showmsg(self):\n",
    "        print(\"Hello world \")\n",
    "    "
   ]
  },
  {
   "cell_type": "code",
   "execution_count": 20,
   "id": "7994f508",
   "metadata": {},
   "outputs": [
    {
     "name": "stdout",
     "output_type": "stream",
     "text": [
      "Object Initialized \n"
     ]
    }
   ],
   "source": [
    "t = Test()"
   ]
  },
  {
   "cell_type": "code",
   "execution_count": 22,
   "id": "8f6cc770",
   "metadata": {},
   "outputs": [
    {
     "name": "stdout",
     "output_type": "stream",
     "text": [
      "Hello world \n"
     ]
    }
   ],
   "source": [
    "Test.showmsg(t), t.showmsg()"
   ]
  },
  {
   "cell_type": "code",
   "execution_count": 23,
   "id": "26536983",
   "metadata": {},
   "outputs": [],
   "source": [
    "class Student:\n",
    "    \n",
    "    def __init__(self,roll,name,eng,hindi,science):\n",
    "        self.roll = roll \n",
    "        self.name = name \n",
    "        self.eng = eng\n",
    "        self.hindi = hindi \n",
    "        self.science = science \n",
    "        \n",
    "    def show_marks(self):\n",
    "        return self.eng,self.hindi,self.science \n",
    "    \n",
    "    def average(self):\n",
    "        return (self.eng + self.hindi + self.science)/3"
   ]
  },
  {
   "cell_type": "code",
   "execution_count": 24,
   "id": "e3f6eead",
   "metadata": {},
   "outputs": [
    {
     "ename": "TypeError",
     "evalue": "Student.__init__() missing 5 required positional arguments: 'roll', 'name', 'eng', 'hindi', and 'science'",
     "output_type": "error",
     "traceback": [
      "\u001b[1;31m---------------------------------------------------------------------------\u001b[0m",
      "\u001b[1;31mTypeError\u001b[0m                                 Traceback (most recent call last)",
      "Input \u001b[1;32mIn [24]\u001b[0m, in \u001b[0;36m<cell line: 1>\u001b[1;34m()\u001b[0m\n\u001b[1;32m----> 1\u001b[0m s1 \u001b[38;5;241m=\u001b[39m \u001b[43mStudent\u001b[49m\u001b[43m(\u001b[49m\u001b[43m)\u001b[49m\n",
      "\u001b[1;31mTypeError\u001b[0m: Student.__init__() missing 5 required positional arguments: 'roll', 'name', 'eng', 'hindi', and 'science'"
     ]
    }
   ],
   "source": [
    "s1 = Student()"
   ]
  },
  {
   "cell_type": "code",
   "execution_count": 26,
   "id": "81b4dc65",
   "metadata": {},
   "outputs": [],
   "source": [
    "s1 = Student(101,'Rahul',60,40,50)\n",
    "s2 = Student(102,'Amit',80,70,60)"
   ]
  },
  {
   "cell_type": "code",
   "execution_count": 27,
   "id": "478e2408",
   "metadata": {},
   "outputs": [
    {
     "data": {
      "text/plain": [
       "<__main__.Student at 0x216f4f2d450>"
      ]
     },
     "execution_count": 27,
     "metadata": {},
     "output_type": "execute_result"
    }
   ],
   "source": [
    "s1"
   ]
  },
  {
   "cell_type": "code",
   "execution_count": 28,
   "id": "fc8dcc0b",
   "metadata": {},
   "outputs": [
    {
     "data": {
      "text/plain": [
       "<__main__.Student at 0x216f4f2c490>"
      ]
     },
     "execution_count": 28,
     "metadata": {},
     "output_type": "execute_result"
    }
   ],
   "source": [
    "s2"
   ]
  },
  {
   "cell_type": "code",
   "execution_count": 29,
   "id": "60ed9e4b",
   "metadata": {},
   "outputs": [
    {
     "data": {
      "text/plain": [
       "(60, 40, 50)"
      ]
     },
     "execution_count": 29,
     "metadata": {},
     "output_type": "execute_result"
    }
   ],
   "source": [
    "s1.show_marks()"
   ]
  },
  {
   "cell_type": "code",
   "execution_count": 30,
   "id": "efe67c3e",
   "metadata": {},
   "outputs": [
    {
     "data": {
      "text/plain": [
       "(80, 70, 60)"
      ]
     },
     "execution_count": 30,
     "metadata": {},
     "output_type": "execute_result"
    }
   ],
   "source": [
    "s2.show_marks()"
   ]
  },
  {
   "cell_type": "code",
   "execution_count": 31,
   "id": "3b1b67d6",
   "metadata": {},
   "outputs": [
    {
     "data": {
      "text/plain": [
       "50.0"
      ]
     },
     "execution_count": 31,
     "metadata": {},
     "output_type": "execute_result"
    }
   ],
   "source": [
    "s1.average()"
   ]
  },
  {
   "cell_type": "code",
   "execution_count": 32,
   "id": "8f6abd63",
   "metadata": {},
   "outputs": [
    {
     "data": {
      "text/plain": [
       "70.0"
      ]
     },
     "execution_count": 32,
     "metadata": {},
     "output_type": "execute_result"
    }
   ],
   "source": [
    "s2.average()"
   ]
  },
  {
   "cell_type": "code",
   "execution_count": 33,
   "id": "22e7953f",
   "metadata": {},
   "outputs": [
    {
     "data": {
      "text/plain": [
       "{'roll': 101, 'name': 'Rahul', 'eng': 60, 'hindi': 40, 'science': 50}"
      ]
     },
     "execution_count": 33,
     "metadata": {},
     "output_type": "execute_result"
    }
   ],
   "source": [
    "s1.__dict__"
   ]
  },
  {
   "cell_type": "code",
   "execution_count": 34,
   "id": "0f01d3f2",
   "metadata": {},
   "outputs": [
    {
     "data": {
      "text/plain": [
       "{'roll': 102, 'name': 'Amit', 'eng': 80, 'hindi': 70, 'science': 60}"
      ]
     },
     "execution_count": 34,
     "metadata": {},
     "output_type": "execute_result"
    }
   ],
   "source": [
    "s2.__dict__"
   ]
  },
  {
   "cell_type": "markdown",
   "id": "e2309cbd",
   "metadata": {},
   "source": [
    "# __repr__ and __str__ "
   ]
  },
  {
   "cell_type": "markdown",
   "id": "de230144",
   "metadata": {},
   "source": [
    "`__repr__` is object representation \n",
    "\n",
    "`__str__` is string representation of our object "
   ]
  },
  {
   "cell_type": "code",
   "execution_count": 38,
   "id": "4b6fbc20",
   "metadata": {},
   "outputs": [],
   "source": [
    "class Animal:\n",
    "    def __init__(self,name,age):\n",
    "        self.name = name \n",
    "        self.age = age \n",
    "        \n",
    "#     def __repr__(self):\n",
    "#         print('__repr__ called ')"
   ]
  },
  {
   "cell_type": "code",
   "execution_count": 39,
   "id": "01e5e294",
   "metadata": {},
   "outputs": [],
   "source": [
    "a = Animal('arrow',4)"
   ]
  },
  {
   "cell_type": "code",
   "execution_count": 40,
   "id": "e4e6c335",
   "metadata": {},
   "outputs": [
    {
     "data": {
      "text/plain": [
       "<__main__.Animal at 0x216f6be1e10>"
      ]
     },
     "execution_count": 40,
     "metadata": {},
     "output_type": "execute_result"
    }
   ],
   "source": [
    "a"
   ]
  },
  {
   "cell_type": "code",
   "execution_count": 49,
   "id": "cf124a79",
   "metadata": {},
   "outputs": [],
   "source": [
    "class Animal:\n",
    "    def __init__(self,name,age):\n",
    "        self.name = name \n",
    "        self.age = age \n",
    "        \n",
    "    def __repr__(self):\n",
    "#         print('__repr__ called ')\n",
    "        return f'Animal(name={self.name},age={self.age})'"
   ]
  },
  {
   "cell_type": "code",
   "execution_count": 50,
   "id": "fd94294b",
   "metadata": {},
   "outputs": [],
   "source": [
    "a = Animal('arrow',4)\n",
    "b = Animal('Bow',3)"
   ]
  },
  {
   "cell_type": "code",
   "execution_count": 51,
   "id": "290e5f4f",
   "metadata": {},
   "outputs": [
    {
     "data": {
      "text/plain": [
       "Animal(name=arrow,age=4)"
      ]
     },
     "execution_count": 51,
     "metadata": {},
     "output_type": "execute_result"
    }
   ],
   "source": [
    "a"
   ]
  },
  {
   "cell_type": "code",
   "execution_count": 52,
   "id": "d15100f1",
   "metadata": {},
   "outputs": [
    {
     "data": {
      "text/plain": [
       "Animal(name=Bow,age=3)"
      ]
     },
     "execution_count": 52,
     "metadata": {},
     "output_type": "execute_result"
    }
   ],
   "source": [
    "b "
   ]
  },
  {
   "cell_type": "code",
   "execution_count": 53,
   "id": "d0b0b151",
   "metadata": {},
   "outputs": [
    {
     "name": "stdout",
     "output_type": "stream",
     "text": [
      "Animal(name=arrow,age=4)\n"
     ]
    }
   ],
   "source": [
    "print(a)"
   ]
  },
  {
   "cell_type": "code",
   "execution_count": 54,
   "id": "1126f395",
   "metadata": {},
   "outputs": [
    {
     "name": "stdout",
     "output_type": "stream",
     "text": [
      "Animal(name=Bow,age=3)\n"
     ]
    }
   ],
   "source": [
    "print(b)"
   ]
  },
  {
   "cell_type": "code",
   "execution_count": 55,
   "id": "ed5ad4c7",
   "metadata": {},
   "outputs": [],
   "source": [
    "class Animal:\n",
    "    def __init__(self,name,age):\n",
    "        self.name = name \n",
    "        self.age = age \n",
    "        \n",
    "    def __repr__(self):\n",
    "        return f'Animal(name={self.name},age={self.age})'\n",
    "\n",
    "    def __str__(self):\n",
    "        return f'Animal({self.name})'\n"
   ]
  },
  {
   "cell_type": "code",
   "execution_count": 56,
   "id": "8d0f1033",
   "metadata": {},
   "outputs": [],
   "source": [
    "a = Animal('arrow',4)\n",
    "b = Animal('Bow',3)"
   ]
  },
  {
   "cell_type": "code",
   "execution_count": 57,
   "id": "6ddb59fa",
   "metadata": {},
   "outputs": [
    {
     "data": {
      "text/plain": [
       "Animal(name=arrow,age=4)"
      ]
     },
     "execution_count": 57,
     "metadata": {},
     "output_type": "execute_result"
    }
   ],
   "source": [
    "a"
   ]
  },
  {
   "cell_type": "code",
   "execution_count": 58,
   "id": "55e002e1",
   "metadata": {},
   "outputs": [
    {
     "name": "stdout",
     "output_type": "stream",
     "text": [
      "Animal(arrow)\n"
     ]
    }
   ],
   "source": [
    "print(a)"
   ]
  },
  {
   "cell_type": "code",
   "execution_count": 59,
   "id": "56a424f0",
   "metadata": {},
   "outputs": [],
   "source": [
    "class Cube:\n",
    "    \n",
    "    def __init__(self,n):\n",
    "        self.n = n \n",
    "        \n",
    "    def getcube(self):\n",
    "        return self.n**3"
   ]
  },
  {
   "cell_type": "code",
   "execution_count": 60,
   "id": "c91a250b",
   "metadata": {},
   "outputs": [],
   "source": [
    "obj1 = Cube(3)"
   ]
  },
  {
   "cell_type": "code",
   "execution_count": 61,
   "id": "492f691c",
   "metadata": {},
   "outputs": [
    {
     "data": {
      "text/plain": [
       "27"
      ]
     },
     "execution_count": 61,
     "metadata": {},
     "output_type": "execute_result"
    }
   ],
   "source": [
    "obj1.getcube()"
   ]
  },
  {
   "cell_type": "markdown",
   "id": "8d033d06",
   "metadata": {},
   "source": [
    "`__call__`"
   ]
  },
  {
   "cell_type": "code",
   "execution_count": 62,
   "id": "2809b1d1",
   "metadata": {},
   "outputs": [],
   "source": [
    "class Cube:\n",
    "    \n",
    "    def __init__(self,n):\n",
    "        self.n = n \n",
    "        \n",
    "    def __call__(self):\n",
    "        return self.n**3"
   ]
  },
  {
   "cell_type": "code",
   "execution_count": 63,
   "id": "1e403995",
   "metadata": {},
   "outputs": [],
   "source": [
    "c = Cube(2)"
   ]
  },
  {
   "cell_type": "code",
   "execution_count": 64,
   "id": "43ef2f2b",
   "metadata": {},
   "outputs": [
    {
     "data": {
      "text/plain": [
       "8"
      ]
     },
     "execution_count": 64,
     "metadata": {},
     "output_type": "execute_result"
    }
   ],
   "source": [
    "c.__call__()"
   ]
  },
  {
   "cell_type": "code",
   "execution_count": 65,
   "id": "ae808c87",
   "metadata": {},
   "outputs": [
    {
     "data": {
      "text/plain": [
       "8"
      ]
     },
     "execution_count": 65,
     "metadata": {},
     "output_type": "execute_result"
    }
   ],
   "source": [
    "c()"
   ]
  },
  {
   "cell_type": "code",
   "execution_count": 66,
   "id": "43d98ae6",
   "metadata": {},
   "outputs": [
    {
     "data": {
      "text/plain": [
       "{'n': 2}"
      ]
     },
     "execution_count": 66,
     "metadata": {},
     "output_type": "execute_result"
    }
   ],
   "source": [
    "c.__dict__"
   ]
  },
  {
   "cell_type": "markdown",
   "id": "6d8b6800",
   "metadata": {},
   "source": [
    "# Sharebale class attributes "
   ]
  },
  {
   "cell_type": "code",
   "execution_count": 78,
   "id": "ab888a9b",
   "metadata": {},
   "outputs": [],
   "source": [
    "class Company:\n",
    "    n = 'TCS'\n",
    "    location = 'Bangalore'\n",
    "    \n",
    "    def __init__(self,emp_code,emp_name):\n",
    "        self.code = emp_code \n",
    "        self.name = emp_name \n",
    "        \n",
    "    def __repr__(self):\n",
    "        return 'Company(empname = {})'.format(self.name)\n",
    "    \n",
    "    def get_details(self):\n",
    "        return self.code,self.name "
   ]
  },
  {
   "cell_type": "code",
   "execution_count": 79,
   "id": "ef2a6041",
   "metadata": {},
   "outputs": [
    {
     "data": {
      "text/plain": [
       "__main__.Company"
      ]
     },
     "execution_count": 79,
     "metadata": {},
     "output_type": "execute_result"
    }
   ],
   "source": [
    "Company"
   ]
  },
  {
   "cell_type": "code",
   "execution_count": 80,
   "id": "d3ff5fd5",
   "metadata": {},
   "outputs": [
    {
     "data": {
      "text/plain": [
       "mappingproxy({'__module__': '__main__',\n",
       "              'n': 'TCS',\n",
       "              'location': 'Bangalore',\n",
       "              '__init__': <function __main__.Company.__init__(self, emp_code, emp_name)>,\n",
       "              '__repr__': <function __main__.Company.__repr__(self)>,\n",
       "              'get_details': <function __main__.Company.get_details(self)>,\n",
       "              '__dict__': <attribute '__dict__' of 'Company' objects>,\n",
       "              '__weakref__': <attribute '__weakref__' of 'Company' objects>,\n",
       "              '__doc__': None})"
      ]
     },
     "execution_count": 80,
     "metadata": {},
     "output_type": "execute_result"
    }
   ],
   "source": [
    "Company.__dict__"
   ]
  },
  {
   "cell_type": "code",
   "execution_count": 81,
   "id": "6394ef4e",
   "metadata": {},
   "outputs": [
    {
     "data": {
      "text/plain": [
       "'TCS'"
      ]
     },
     "execution_count": 81,
     "metadata": {},
     "output_type": "execute_result"
    }
   ],
   "source": [
    "Company.__dict__['n']"
   ]
  },
  {
   "cell_type": "code",
   "execution_count": 71,
   "id": "046ae56b",
   "metadata": {},
   "outputs": [
    {
     "data": {
      "text/plain": [
       "'Bangalore'"
      ]
     },
     "execution_count": 71,
     "metadata": {},
     "output_type": "execute_result"
    }
   ],
   "source": [
    "Company.__dict__['location']"
   ]
  },
  {
   "cell_type": "code",
   "execution_count": 82,
   "id": "6212e52b",
   "metadata": {},
   "outputs": [],
   "source": [
    "e1 = Company(1,'Rahul')\n",
    "e2 = Company(2,'Ujjwal')"
   ]
  },
  {
   "cell_type": "code",
   "execution_count": 83,
   "id": "5a8933ee",
   "metadata": {},
   "outputs": [
    {
     "name": "stdout",
     "output_type": "stream",
     "text": [
      "Company(empname = Rahul)\n"
     ]
    }
   ],
   "source": [
    "print(e1)"
   ]
  },
  {
   "cell_type": "code",
   "execution_count": 85,
   "id": "da07d800",
   "metadata": {},
   "outputs": [
    {
     "data": {
      "text/plain": [
       "('Rahul', 'TCS')"
      ]
     },
     "execution_count": 85,
     "metadata": {},
     "output_type": "execute_result"
    }
   ],
   "source": [
    "e1.name, e1.n"
   ]
  },
  {
   "cell_type": "code",
   "execution_count": 77,
   "id": "aed43533",
   "metadata": {},
   "outputs": [
    {
     "data": {
      "text/plain": [
       "('Bangalore', 'Bangalore')"
      ]
     },
     "execution_count": 77,
     "metadata": {},
     "output_type": "execute_result"
    }
   ],
   "source": [
    "e1.location, e2.location"
   ]
  },
  {
   "cell_type": "code",
   "execution_count": 86,
   "id": "56f03186",
   "metadata": {},
   "outputs": [
    {
     "data": {
      "text/plain": [
       "'TCS'"
      ]
     },
     "execution_count": 86,
     "metadata": {},
     "output_type": "execute_result"
    }
   ],
   "source": [
    "e2.n"
   ]
  },
  {
   "cell_type": "code",
   "execution_count": 87,
   "id": "35d18198",
   "metadata": {},
   "outputs": [
    {
     "data": {
      "text/plain": [
       "<function isinstance(obj, class_or_tuple, /)>"
      ]
     },
     "execution_count": 87,
     "metadata": {},
     "output_type": "execute_result"
    }
   ],
   "source": [
    "isinstance"
   ]
  },
  {
   "cell_type": "code",
   "execution_count": 88,
   "id": "a2f96501",
   "metadata": {},
   "outputs": [
    {
     "data": {
      "text/plain": [
       "True"
      ]
     },
     "execution_count": 88,
     "metadata": {},
     "output_type": "execute_result"
    }
   ],
   "source": [
    "isinstance(e1,Company)"
   ]
  },
  {
   "cell_type": "code",
   "execution_count": 89,
   "id": "b3b0becb",
   "metadata": {},
   "outputs": [
    {
     "data": {
      "text/plain": [
       "True"
      ]
     },
     "execution_count": 89,
     "metadata": {},
     "output_type": "execute_result"
    }
   ],
   "source": [
    "isinstance(e2,Company)"
   ]
  },
  {
   "cell_type": "code",
   "execution_count": 90,
   "id": "4d3951c8",
   "metadata": {},
   "outputs": [
    {
     "data": {
      "text/plain": [
       "False"
      ]
     },
     "execution_count": 90,
     "metadata": {},
     "output_type": "execute_result"
    }
   ],
   "source": [
    "isinstance(e1,Cube)"
   ]
  },
  {
   "cell_type": "code",
   "execution_count": 91,
   "id": "588a7666",
   "metadata": {},
   "outputs": [
    {
     "data": {
      "text/plain": [
       "True"
      ]
     },
     "execution_count": 91,
     "metadata": {},
     "output_type": "execute_result"
    }
   ],
   "source": [
    "isinstance(e1,object)"
   ]
  },
  {
   "cell_type": "code",
   "execution_count": 92,
   "id": "90387cc1",
   "metadata": {},
   "outputs": [
    {
     "data": {
      "text/plain": [
       "True"
      ]
     },
     "execution_count": 92,
     "metadata": {},
     "output_type": "execute_result"
    }
   ],
   "source": [
    "isinstance(2,object)"
   ]
  },
  {
   "cell_type": "code",
   "execution_count": 93,
   "id": "b8007bef",
   "metadata": {},
   "outputs": [
    {
     "data": {
      "text/plain": [
       "True"
      ]
     },
     "execution_count": 93,
     "metadata": {},
     "output_type": "execute_result"
    }
   ],
   "source": [
    "isinstance(\"rahu\",object)"
   ]
  },
  {
   "cell_type": "code",
   "execution_count": 94,
   "id": "612ef80c",
   "metadata": {},
   "outputs": [
    {
     "data": {
      "text/plain": [
       "True"
      ]
     },
     "execution_count": 94,
     "metadata": {},
     "output_type": "execute_result"
    }
   ],
   "source": [
    "isinstance(False,object)"
   ]
  },
  {
   "cell_type": "markdown",
   "id": "53a83378",
   "metadata": {},
   "source": [
    "write a program that will open a file , create methods to write to the file and read from the file .. Using \n",
    "class"
   ]
  },
  {
   "cell_type": "code",
   "execution_count": null,
   "id": "66c866d3",
   "metadata": {},
   "outputs": [],
   "source": []
  }
 ],
 "metadata": {
  "kernelspec": {
   "display_name": "Python 3 (ipykernel)",
   "language": "python",
   "name": "python3"
  },
  "language_info": {
   "codemirror_mode": {
    "name": "ipython",
    "version": 3
   },
   "file_extension": ".py",
   "mimetype": "text/x-python",
   "name": "python",
   "nbconvert_exporter": "python",
   "pygments_lexer": "ipython3",
   "version": "3.10.4"
  }
 },
 "nbformat": 4,
 "nbformat_minor": 5
}
